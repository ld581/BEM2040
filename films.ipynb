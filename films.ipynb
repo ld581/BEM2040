{
 "cells": [
  {
   "cell_type": "code",
   "execution_count": null,
   "id": "57d23e15",
   "metadata": {},
   "outputs": [],
   "source": [
    "import sqlite3\n",
    "import pandas as pd\n",
    "import matplotlib.pyplot as plt\n",
    "\n",
    "\n",
    "conn = sqlite3.connect('films.db') \n",
    "cur = conn.cursor()\n"
   ]
  },
  {
   "cell_type": "code",
   "execution_count": null,
   "id": "8d974de0",
   "metadata": {},
   "outputs": [],
   "source": [
    "try:\n",
    "    cur.execute(\"DROP TABLE FILM_ACTOR_PARTICIPATION\")\n",
    "    cur.execute(\"DROP TABLE ACTOR\")\n",
    "    cur.execute(\"DROP TABLE FILM\")\n",
    "except:\n",
    "    print(\"Tables did not exist or an error occurred dropping them.\")"
   ]
  },
  {
   "cell_type": "markdown",
   "id": "871f11a1",
   "metadata": {},
   "source": [
    "## C.1. -- Create the tables of the database."
   ]
  },
  {
   "cell_type": "code",
   "execution_count": null,
   "id": "7c6be21c",
   "metadata": {},
   "outputs": [],
   "source": [
    "createTableFilmStmt = \"CREATE TABLE FILM ( \" + \\\n",
    "                      \"FILM_ID varchar(100) PRIMARY KEY, \" + \\\n",
    "                      \"FILM_TITLE varchar(500) NOT NULL, \" + \\\n",
    "                      \"FILM_YEAR_END int check(FILM_YEAR_END >= 1870) \" + \\\n",
    "                      \"); \"\n"
   ]
  },
  {
   "cell_type": "code",
   "execution_count": null,
   "id": "2cd5a34c",
   "metadata": {},
   "outputs": [],
   "source": [
    "cur.execute(createTableFilmStmt)"
   ]
  },
  {
   "cell_type": "code",
   "execution_count": null,
   "id": "07b86678",
   "metadata": {},
   "outputs": [],
   "source": [
    "createTableActorStmt = \"CREATE TABLE ACTOR ( \" + \\\n",
    "                       \"ACTOR_ID varchar(100) PRIMARY KEY, \" + \\\n",
    "                       \"ACTOR_NAME varchar(255) NOT NULL \" + \\\n",
    "                       \"); \"\n"
   ]
  },
  {
   "cell_type": "code",
   "execution_count": null,
   "id": "18016081",
   "metadata": {},
   "outputs": [],
   "source": [
    "cur.execute(createTableActorStmt)"
   ]
  },
  {
   "cell_type": "code",
   "execution_count": null,
   "id": "ddfafe4e",
   "metadata": {},
   "outputs": [],
   "source": [
    "createTableParticipStmt = \"CREATE TABLE FILM_ACTOR_PARTICIPATION ( \" + \\\n",
    "                          \"ACTOR_ID varchar(100) NOT NULL, \" + \\\n",
    "                          \"FILM_ID varchar(100) NOT NULL, \" + \\\n",
    "                          \"PRIMARY KEY (ACTOR_ID, FILM_ID), \" + \\\n",
    "                          \"FOREIGN KEY (ACTOR_ID) REFERENCES ACTOR (ACTOR_ID), \" + \\\n",
    "                          \"FOREIGN KEY (FILM_ID) REFERENCES FILM (FILM_ID) \" + \\\n",
    "                          \"); \"\n"
   ]
  },
  {
   "cell_type": "code",
   "execution_count": null,
   "id": "73abf738",
   "metadata": {},
   "outputs": [],
   "source": [
    "cur.execute(createTableParticipStmt)"
   ]
  },
  {
   "cell_type": "markdown",
   "id": "0db3ed0d",
   "metadata": {},
   "source": [
    "## C.3. -- Populate the database.\n",
    "\n",
    "Tables were populated before demonstrating the CRUD operations."
   ]
  },
  {
   "cell_type": "code",
   "execution_count": null,
   "id": "01edba02",
   "metadata": {},
   "outputs": [],
   "source": [
    "insertFilmStmt = \"INSERT INTO FILM(FILM_ID, FILM_TITLE, FILM_YEAR_END) VALUES(?, ?, ?);\"\n"
   ]
  },
  {
   "cell_type": "code",
   "execution_count": null,
   "id": "0b0cce7b",
   "metadata": {},
   "outputs": [],
   "source": [
    "cur.execute(insertFilmStmt, ('tt0053494', \"Coronationstreet\", 1960))\n",
    "cur.execute(insertFilmStmt, ('tt0053555', \"...und keiner schämte sich\", 1960))\n",
    "cur.execute(insertFilmStmt, ('tt0055214', \"The Naked Edge\", 1961))\n",
    "cur.execute(insertFilmStmt, ('tt0055701', \"The Saint\", 1962))\n",
    "cur.execute(insertFilmStmt, ('tt0056127', \"Journey to the Seventh Planet\", 1962))\n",
    "cur.execute(insertFilmStmt, ('tt0056526', \"State Fair\", 1962))\n",
    "cur.execute(insertFilmStmt, ('tt0056745', \"Burke's Law\", 1963))\n",
    "cur.execute(insertFilmStmt, ('tt0057012', \"Dr. Strangelove or: How I Learned to Stop Worrying and Love the Bomb\", 1964))\n",
    "cur.execute(insertFilmStmt, ('tt0057731', \"Another World\", 1964))\n",
    "cur.execute(insertFilmStmt, ('tt0058814', \"Honey West\", 1965))\n",
    "cur.execute(insertFilmStmt, ('tt0058846', \"Danger Man\", 1964))\n",
    "cur.execute(insertFilmStmt, ('tt0058938', \"Le bambole\", 1965))\n",
    "cur.execute(insertFilmStmt, ('tt0060232', \"The Chase\", 1966))\n",
    "cur.execute(insertFilmStmt, ('tt0060741', \"The Navy vs. the Night Monsters\", 1966))\n",
    "cur.execute(insertFilmStmt, ('tt0061910', \"Lille mand, pas på\", 1968))\n",
    "cur.execute(insertFilmStmt, ('tt0062111', \"Pension Clausewitz\", 1967))\n",
    "cur.execute(insertFilmStmt, ('tt0062301', \"The St. Valentine's Day Massacre\", 1967))\n",
    "cur.execute(insertFilmStmt, ('tt0062643', \"Agent 0,5 och Kvarten - fattaruväl!\", 1968))\n",
    "cur.execute(insertFilmStmt, ('tt0062721', \"Bel Ami\", 1968))"
   ]
  },
  {
   "cell_type": "code",
   "execution_count": null,
   "id": "85f36044",
   "metadata": {},
   "outputs": [],
   "source": [
    "conn.commit()"
   ]
  },
  {
   "cell_type": "code",
   "execution_count": null,
   "id": "83a60c36",
   "metadata": {},
   "outputs": [],
   "source": [
    "insertActorStmt = \"INSERT INTO ACTOR(ACTOR_ID, ACTOR_NAME) VALUES (?, ?);\""
   ]
  },
  {
   "cell_type": "code",
   "execution_count": null,
   "id": "1987a47a",
   "metadata": {},
   "outputs": [],
   "source": [
    "cur.execute(insertActorStmt, ('nm0104572', 'Marc Brandel'))\n",
    "cur.execute(insertActorStmt, ('nm0104595', 'Nero Brandenburg'))\n",
    "cur.execute(insertActorStmt, ('nm0104596', 'Otto Brandenburg'))\n",
    "cur.execute(insertActorStmt, ('nm0104606', 'Ingela Brander'))\n",
    "cur.execute(insertActorStmt, ('nm0104624', 'Janet Brandes'))\n",
    "cur.execute(insertActorStmt, ('nm0104638', 'Alicia Brandet'))\n",
    "cur.execute(insertActorStmt, ('nm0104642', 'Arne Brandhild'))\n",
    "cur.execute(insertActorStmt, ('nm0104670', 'Walter Brandin'))\n",
    "cur.execute(insertActorStmt, ('nm0104671', 'Heinz Theo Branding'))\n",
    "cur.execute(insertActorStmt, ('nm0104706', 'Ernst Brandner'))\n",
    "cur.execute(insertActorStmt, ('nm0104713', 'Marlon Brando Sr.'))\n",
    "cur.execute(insertActorStmt, ('nm0104720', 'Jocelyn Brando'))\n",
    "cur.execute(insertActorStmt, ('nm0104738', 'Bob Brandon'))\n",
    "cur.execute(insertActorStmt, ('nm0104746', 'Clifton Brandon'))\n",
    "cur.execute(insertActorStmt, ('nm0104752', 'David Brandon'))\n",
    "cur.execute(insertActorStmt, ('nm0104772', 'Jane Alice Brandon'))\n",
    "cur.execute(insertActorStmt, ('nm0104799', 'Roy Brandon'))\n",
    "cur.execute(insertActorStmt, ('nm0104830', 'X Brands'))\n",
    "cur.execute(insertActorStmt, ('nm0104837', 'Jutta Brandstaedter'))"
   ]
  },
  {
   "cell_type": "code",
   "execution_count": null,
   "id": "647c9ec0",
   "metadata": {},
   "outputs": [],
   "source": [
    "conn.commit()"
   ]
  },
  {
   "cell_type": "code",
   "execution_count": null,
   "id": "9febdf7d",
   "metadata": {},
   "outputs": [],
   "source": [
    "insertParticipationStmt = \"INSERT INTO FILM_ACTOR_PARTICIPATION(ACTOR_ID, FILM_ID) VALUES(?, ?);\""
   ]
  },
  {
   "cell_type": "code",
   "execution_count": null,
   "id": "0d0845fe",
   "metadata": {},
   "outputs": [],
   "source": [
    "cur.execute(insertParticipationStmt, ('nm0104572', 'tt0058846' ))\n",
    "cur.execute(insertParticipationStmt, ('nm0104572', 'tt0056745' ))\n",
    "cur.execute(insertParticipationStmt, ('nm0104572', 'tt0058814' ))\n",
    "cur.execute(insertParticipationStmt, ('nm0104595', 'tt0062111' ))\n",
    "cur.execute(insertParticipationStmt, ('nm0104596', 'tt0056127' ))\n",
    "cur.execute(insertParticipationStmt, ('nm0104606', 'tt0061910' ))\n",
    "cur.execute(insertParticipationStmt, ('nm0104624', 'tt0055701' ))\n",
    "cur.execute(insertParticipationStmt, ('nm0104638', 'tt0058938' ))\n",
    "cur.execute(insertParticipationStmt, ('nm0104642', 'tt0062643' ))\n",
    "cur.execute(insertParticipationStmt, ('nm0104670', 'tt0053555' ))\n",
    "cur.execute(insertParticipationStmt, ('nm0104671', 'tt0062721' ))\n",
    "cur.execute(insertParticipationStmt, ('nm0104706', 'tt0053555' ))\n",
    "cur.execute(insertParticipationStmt, ('nm0104713', 'tt0055214' ))\n",
    "cur.execute(insertParticipationStmt, ('nm0104720', 'tt0060232' ))\n",
    "cur.execute(insertParticipationStmt, ('nm0104738', 'tt0062301' ))\n",
    "cur.execute(insertParticipationStmt, ('nm0104746', 'tt0057012' ))\n",
    "cur.execute(insertParticipationStmt, ('nm0104752', 'tt0056526' ))\n",
    "cur.execute(insertParticipationStmt, ('nm0104752', 'tt0060741' ))\n",
    "cur.execute(insertParticipationStmt, ('nm0104772', 'tt0057731' ))\n",
    "cur.execute(insertParticipationStmt, ('nm0104799', 'tt0053494' ))"
   ]
  },
  {
   "cell_type": "code",
   "execution_count": null,
   "id": "066b0623",
   "metadata": {},
   "outputs": [],
   "source": [
    "conn.commit()"
   ]
  },
  {
   "cell_type": "markdown",
   "id": "808d140e",
   "metadata": {},
   "source": [
    "## C.2. -- Crud operations"
   ]
  },
  {
   "cell_type": "markdown",
   "id": "6fe21a62",
   "metadata": {},
   "source": [
    "### Creating one new film \n",
    "Note the insertion is related to the use case in that it adds a record that will be reflected in the barchart."
   ]
  },
  {
   "cell_type": "code",
   "execution_count": null,
   "id": "dffa9713",
   "metadata": {},
   "outputs": [],
   "source": [
    "cur.execute(insertFilmStmt, ('tt0074921', 'Most', 1969))\n",
    "conn.commit()"
   ]
  },
  {
   "cell_type": "markdown",
   "id": "38c086d0",
   "metadata": {},
   "source": [
    "### Deleteting one film -- First delete the participations for that film."
   ]
  },
  {
   "cell_type": "code",
   "execution_count": null,
   "id": "92031ae7",
   "metadata": {},
   "outputs": [],
   "source": [
    "idFilToDelete = \"tt0058938\"\n",
    "deleteParticipationStmt = \"DELETE FROM FILM_ACTOR_PARTICIPATION WHERE FILM_ID = ?\"\n",
    "\n",
    "cur.execute(deleteParticipationStmt, (idFilToDelete,))\n",
    "conn.commit()"
   ]
  },
  {
   "cell_type": "markdown",
   "id": "b7160646",
   "metadata": {},
   "source": [
    "### Deleteting one film -- Then delete the film."
   ]
  },
  {
   "cell_type": "code",
   "execution_count": null,
   "id": "4f0e430c",
   "metadata": {},
   "outputs": [],
   "source": [
    "deleteFilmStmt = \"DELETE FROM FILM WHERE FILM_ID = ?\"\n",
    "cur.execute(deleteFilmStmt, (idFilToDelete,))\n",
    "conn.commit()"
   ]
  },
  {
   "cell_type": "markdown",
   "id": "aea71da3",
   "metadata": {},
   "source": [
    "### Updating one film (correcting a film's title)"
   ]
  },
  {
   "cell_type": "code",
   "execution_count": null,
   "id": "f30f5e43",
   "metadata": {},
   "outputs": [],
   "source": [
    "idFilToUpdate = \"tt0053494\"\n",
    "updateFilmStmt = \"UPDATE FILM SET FILM_TITLE = ? WHERE FILM_ID = ?\"\n",
    "cur.execute(updateFilmStmt, (\"Coronation Street\", idFilToUpdate))\n",
    "conn.commit()"
   ]
  },
  {
   "cell_type": "markdown",
   "id": "1858f04f",
   "metadata": {},
   "source": [
    "### Reading films (selecting films)"
   ]
  },
  {
   "cell_type": "code",
   "execution_count": null,
   "id": "0719ffc5",
   "metadata": {},
   "outputs": [],
   "source": [
    "selectFilmsStmt = \"SELECT FILM_ID, FILM_TITLE, FILM_YEAR_END FROM FILM\"\n",
    "cur.execute(selectFilmsStmt)\n",
    "\n",
    "result = cur.fetchall()\n",
    "for id_film, title_film, year_film in result:\n",
    "    print(\"Id of the film:\" + id_film + \", title of the film: \" + title_film + \", year of the film: \" + str(year_film))"
   ]
  },
  {
   "cell_type": "markdown",
   "id": "2c8d7a5a",
   "metadata": {},
   "source": [
    "## C.4. -- Analytics operation\n",
    "\n",
    "Only one analytics operation is required. Note that this operation is related to the use case."
   ]
  },
  {
   "cell_type": "code",
   "execution_count": null,
   "id": "d259fc6a",
   "metadata": {},
   "outputs": [],
   "source": [
    "selectFilmsPerYearStmt = \"SELECT COUNT(FILM_ID) as NUM_FILMS, \" + \\\n",
    "                         \"FILM_YEAR_END FROM FILM \" + \\\n",
    "                         \"GROUP BY FILM_YEAR_END\"\n",
    "\n",
    "cur.execute(selectFilmsPerYearStmt)\n",
    "\n",
    "resultsFilmsPerYear = cur.fetchall()\n",
    "df = pd.DataFrame(resultsFilmsPerYear, columns = ['NUM_FILMS', 'FILM_YEAR_END'])\n",
    "df.head()"
   ]
  },
  {
   "cell_type": "code",
   "execution_count": null,
   "id": "42745e9e",
   "metadata": {},
   "outputs": [],
   "source": [
    "plt.bar(df['FILM_YEAR_END'], df['NUM_FILMS'], color='royalblue', alpha=0.7)\n",
    "plt.show()"
   ]
  },
  {
   "cell_type": "markdown",
   "id": "c29965d4",
   "metadata": {},
   "source": [
    "## If you had specified in the use case, for example, \"the system displays the range of years of the films in the database\", then the following would have sufficed:"
   ]
  },
  {
   "cell_type": "code",
   "execution_count": null,
   "id": "dd19e78b",
   "metadata": {},
   "outputs": [],
   "source": [
    "selectMinMax = \"SELECT MIN(FILM_YEAR_END) as MIN_YEAR, \" + \\\n",
    "                       \"MAX(FILM_YEAR_END) AS MAX_YEAR FROM FILM \" \n",
    "\n",
    "cur.execute(selectMinMax)\n",
    "\n",
    "resultsMinMax = cur.fetchall()\n",
    "\n",
    "for r in resultsMinMax:\n",
    "    print(r)"
   ]
  },
  {
   "cell_type": "code",
   "execution_count": null,
   "id": "777cd5c0",
   "metadata": {},
   "outputs": [],
   "source": [
    "conn.close()"
   ]
  },
  {
   "cell_type": "code",
   "execution_count": null,
   "id": "c1127902",
   "metadata": {},
   "outputs": [],
   "source": []
  }
 ],
 "metadata": {
  "kernelspec": {
   "display_name": "Python 3",
   "language": "python",
   "name": "python3"
  },
  "language_info": {
   "codemirror_mode": {
    "name": "ipython",
    "version": 3
   },
   "file_extension": ".py",
   "mimetype": "text/x-python",
   "name": "python",
   "nbconvert_exporter": "python",
   "pygments_lexer": "ipython3",
   "version": "3.8.8"
  }
 },
 "nbformat": 4,
 "nbformat_minor": 5
}
